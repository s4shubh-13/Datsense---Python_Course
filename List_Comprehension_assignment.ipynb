{
 "cells": [
  {
   "cell_type": "markdown",
   "id": "0f9c749c-52c9-4567-863d-b1965cfe0965",
   "metadata": {
    "id": "0f9c749c-52c9-4567-863d-b1965cfe0965"
   },
   "source": [
    "# List Comprehension"
   ]
  },
  {
   "cell_type": "markdown",
   "id": "9441f545-889f-4e31-af39-9c59cfc4eae1",
   "metadata": {
    "id": "9441f545-889f-4e31-af39-9c59cfc4eae1"
   },
   "source": [
    "# SECTION 1: What is List Comprehension?"
   ]
  },
  {
   "cell_type": "markdown",
   "id": "521cc0c9-cf1c-4d6e-9561-1f9951589660",
   "metadata": {
    "id": "521cc0c9-cf1c-4d6e-9561-1f9951589660"
   },
   "source": [
    "\"\"\"\n",
    "List comprehension is a Pythonic way to generate new lists by transforming, filtering, or flattening existing iterables using a single, readable line of code.\n",
    "\n",
    "### Syntax:\n",
    "    [expression for item in iterable if condition]\n",
    "\n",
    "### Components:\n",
    "- **expression**: the value to store in the new list\n",
    "- **item**: the variable that takes the value of each element in the iterable\n",
    "- **iterable**: a sequence (e.g., list, range, string)\n",
    "- **condition (optional)**: filters elements from the iterable\n",
    "\n",
    "### Properties:\n",
    "- **Concise**: Reduces the lines of code\n",
    "- **Readable**: Easier to understand for simple transformations\n",
    "- **Faster**: Internally optimized compared to loops\n",
    "- **Combinable**: Works with nested loops, conditions, and function calls\n",
    "\n",
    "### 🔁 Equivalent to:\n",
    "List comprehension:\n",
    "    [x*x for x in range(5) if x % 2 == 0]\n",
    "    \n",
    "Loop equivalent:\n",
    "\n",
    "    result = []\n",
    "    for x in range(5):\n",
    "        if x % 2 == 0:\n",
    "            result.append(x*x)\n",
    "\"\"\""
   ]
  },
  {
   "cell_type": "markdown",
   "id": "f1d14337-3c2a-4b5e-91ed-0230daf1da01",
   "metadata": {
    "id": "f1d14337-3c2a-4b5e-91ed-0230daf1da01"
   },
   "source": [
    "# 🔠 Python `str.is*()` Methods — Full Reference\n",
    "\n",
    "| Method         | Description                                                                 | Example                      | Returns |\n",
    "|----------------|-----------------------------------------------------------------------------|------------------------------|---------|\n",
    "| `isalpha()`    | Returns `True` if all characters are alphabets (A–Z or a–z)                 | `\"Python\".isalpha()`         | `True`  |\n",
    "| `isdigit()`    | Returns `True` if all characters are digits (0–9)                           | `\"12345\".isdigit()`          | `True`  |\n",
    "| `isalnum()`    | Returns `True` if all characters are alphanumeric (A–Z, a–z, 0–9)           | `\"abc123\".isalnum()`         | `True`  |\n",
    "| `isdecimal()`  | Returns `True` if all characters are decimal characters (0–9)               | `\"234\".isdecimal()`          | `True`  |\n",
    "| `isnumeric()`  | Returns `True` if all characters are numeric (includes fractions, superscripts, etc.) | `\"Ⅻ\".isnumeric()`  | `True`  |\n",
    "| `islower()`    | Returns `True` if all cased characters are lowercase                        | `\"hello\".islower()`          | `True`  |\n",
    "| `isupper()`    | Returns `True` if all cased characters are uppercase                        | `\"HELLO\".isupper()`          | `True`  |\n",
    "| `istitle()`    | Returns `True` if string is in title case (e.g., First Letter Capitalized)  | `\"Hello World\".istitle()`    | `True`  |\n",
    "| `isspace()`    | Returns `True` if all characters are whitespace                             | `\"   \".isspace()`            | `True`  |\n",
    "| `isidentifier()` | Returns `True` if string is a valid Python identifier (e.g., variable name) | `\"my_var1\".isidentifier()` | `True`  |\n",
    "| `isprintable()` | Returns `True` if all characters are printable                             | `\"Hello123!\".isprintable()`  | `True`  |\n",
    "| `isascii()`    | Returns `True` if all characters are ASCII (0–127)                          | `\"Hello!\".isascii()`         | `True`  |\n",
    "\n"
   ]
  },
  {
   "cell_type": "markdown",
   "id": "2ebc177c-5015-4dda-8dd9-c0fe9a077a4c",
   "metadata": {
    "id": "2ebc177c-5015-4dda-8dd9-c0fe9a077a4c"
   },
   "source": [
    "# SECTION 2: Basic Practice Questions"
   ]
  },
  {
   "cell_type": "code",
   "execution_count": null,
   "id": "b64bdc88-9f16-4930-908d-e40c2d8ec1ba",
   "metadata": {
    "id": "b64bdc88-9f16-4930-908d-e40c2d8ec1ba"
   },
   "outputs": [],
   "source": []
  },
  {
   "cell_type": "code",
   "execution_count": null,
   "id": "61a252f0-1fa1-4378-aefc-0132c9e97ac4",
   "metadata": {
    "id": "61a252f0-1fa1-4378-aefc-0132c9e97ac4",
    "outputId": "4bf43c18-e7d5-407b-a1fb-3c45808239ba"
   },
   "outputs": [
    {
     "name": "stdout",
     "output_type": "stream",
     "text": [
      "Even Numbers: [0, 2, 4, 6, 8, 10, 12, 14, 16, 18, 20]\n"
     ]
    }
   ],
   "source": [
    "\n",
    "# 1. Create a list of even numbers from 0 to 20\n",
    "even_numbers = [x for x in range(21) if x % 2 == 0]\n",
    "print(\"Even Numbers:\", even_numbers)\n"
   ]
  },
  {
   "cell_type": "code",
   "execution_count": null,
   "id": "ef4abce0-982e-4867-a00a-1f81ecadad69",
   "metadata": {
    "id": "ef4abce0-982e-4867-a00a-1f81ecadad69",
    "outputId": "d11b7547-4100-4ce5-9031-b434843090da"
   },
   "outputs": [
    {
     "name": "stdout",
     "output_type": "stream",
     "text": [
      "Uppercase Words: ['PYTHON', 'DATA', 'SCIENCE']\n"
     ]
    }
   ],
   "source": [
    "\n",
    "# 2. Convert a list of strings to uppercase\n",
    "words = ['python', 'data', 'science']\n",
    "upper_words = [word.upper() for word in words]\n",
    "print(\"Uppercase Words:\", upper_words)\n"
   ]
  },
  {
   "cell_type": "code",
   "execution_count": null,
   "id": "e44174fb-1fa6-423d-81d1-fcceb115860c",
   "metadata": {
    "id": "e44174fb-1fa6-423d-81d1-fcceb115860c",
    "outputId": "0c62c81f-aafb-4f91-a479-08e7a5ad9942"
   },
   "outputs": [
    {
     "name": "stdout",
     "output_type": "stream",
     "text": [
      "Odd Squares: [1, 9, 25, 49, 81]\n"
     ]
    }
   ],
   "source": [
    "\n",
    "# 3. Get square of all odd numbers from 1 to 10\n",
    "odd_squares = [x**2 for x in range(1, 11) if x % 2 != 0]\n",
    "print(\"Odd Squares:\", odd_squares)\n"
   ]
  },
  {
   "cell_type": "code",
   "execution_count": null,
   "id": "6bbb5290-0f33-40f5-b64d-005cf922e942",
   "metadata": {
    "id": "6bbb5290-0f33-40f5-b64d-005cf922e942",
    "outputId": "b320bc56-3693-4be5-eede-da1ab922431d"
   },
   "outputs": [
    {
     "name": "stdout",
     "output_type": "stream",
     "text": [
      "Digits: ['1', '2', '3']\n"
     ]
    }
   ],
   "source": [
    "\n",
    "# 4. Extract digits from a string\n",
    "data = \"abc123xyz\"\n",
    "digits = [char for char in data if char.isdigit()]\n",
    "print(\"Digits:\", digits)\n"
   ]
  },
  {
   "cell_type": "markdown",
   "id": "74ea95ad-ce97-4d2d-b98a-8d18a0d3903f",
   "metadata": {
    "id": "74ea95ad-ce97-4d2d-b98a-8d18a0d3903f"
   },
   "source": [
    "# SECTION 3: Intermediate Use Cases"
   ]
  },
  {
   "cell_type": "code",
   "execution_count": null,
   "id": "9a50e750-e40e-4167-8cd3-d4ad960a54c1",
   "metadata": {
    "id": "9a50e750-e40e-4167-8cd3-d4ad960a54c1",
    "outputId": "8ade9f2f-9b32-45fc-b81e-5c18bcdb333a"
   },
   "outputs": [
    {
     "name": "stdout",
     "output_type": "stream",
     "text": [
      "Words starting with 'd': ['data', 'developer']\n"
     ]
    }
   ],
   "source": [
    "\n",
    "# 5. Filter words starting with 'd'\n",
    "words = ['data', 'python', 'developer', 'science']\n",
    "d_words = [word for word in words if word.startswith('d')]\n",
    "print(\"Words starting with 'd':\", d_words)\n"
   ]
  },
  {
   "cell_type": "code",
   "execution_count": null,
   "id": "dec98ae9-3ee5-4fe5-a795-7785e058893d",
   "metadata": {
    "id": "dec98ae9-3ee5-4fe5-a795-7785e058893d",
    "outputId": "16fa6b95-1b18-4a7e-b45e-7debfd73e46d"
   },
   "outputs": [
    {
     "name": "stdout",
     "output_type": "stream",
     "text": [
      "Tuple of (x, x^2): [(1, 1), (2, 4), (3, 9), (4, 16), (5, 25), (6, 36), (7, 49), (8, 64), (9, 81), (10, 100)]\n"
     ]
    }
   ],
   "source": [
    "\n",
    "# 6. Create a list of (number, square) tuples for 1 to 10\n",
    "tuple_list = [(x, x**2) for x in range(1, 11)]\n",
    "print(\"Tuple of (x, x^2):\", tuple_list)\n"
   ]
  },
  {
   "cell_type": "code",
   "execution_count": null,
   "id": "875ac212-b64e-4f9e-a4c7-b1712aedf9e5",
   "metadata": {
    "id": "875ac212-b64e-4f9e-a4c7-b1712aedf9e5",
    "outputId": "c0ebf0ff-7e01-48ce-eff9-e7a376416a5f"
   },
   "outputs": [
    {
     "name": "stdout",
     "output_type": "stream",
     "text": [
      "No Negatives: [0, 3, 0, 7, 0]\n"
     ]
    }
   ],
   "source": [
    "\n",
    "# 7. Replace all negative numbers with 0 in a list\n",
    "nums = [-5, 3, -2, 7, -1]\n",
    "cleaned = [x if x > 0 else 0 for x in nums]\n",
    "print(\"No Negatives:\", cleaned)"
   ]
  },
  {
   "cell_type": "markdown",
   "id": "c086ef09-052f-4805-acaa-d7a2ccff9510",
   "metadata": {
    "id": "c086ef09-052f-4805-acaa-d7a2ccff9510"
   },
   "source": [
    "# SECTION 4: Nested List Comprehensions"
   ]
  },
  {
   "cell_type": "code",
   "execution_count": null,
   "id": "428bee09-63e4-41c8-905f-741c1add1152",
   "metadata": {
    "id": "428bee09-63e4-41c8-905f-741c1add1152",
    "outputId": "856d4c7c-35a5-406e-a4cf-aae33182a47e"
   },
   "outputs": [
    {
     "name": "stdout",
     "output_type": "stream",
     "text": [
      "Flattened List: [1, 2, 3, 4, 5, 6, 7, 8, 9]\n"
     ]
    }
   ],
   "source": [
    "\n",
    "# 8. Flatten a 2D list into a 1D list\n",
    "matrix = [[1, 2, 3], [4, 5, 6], [7, 8, 9]]\n",
    "flattened = [num for row in matrix for num in row]\n",
    "print(\"Flattened List:\", flattened)\n",
    "\n"
   ]
  },
  {
   "cell_type": "code",
   "execution_count": null,
   "id": "0b4b6502-7421-484f-9c23-4efdfd6ba250",
   "metadata": {
    "id": "0b4b6502-7421-484f-9c23-4efdfd6ba250",
    "outputId": "40724fe4-c42b-4f57-f479-9b3d22ac85c4"
   },
   "outputs": [
    {
     "name": "stdout",
     "output_type": "stream",
     "text": [
      "Transposed Matrix: [[1, 4, 7], [2, 5, 8], [3, 6, 9]]\n"
     ]
    }
   ],
   "source": [
    "# 9. Transpose a 2D matrix\n",
    "matrix = [[1, 2, 3], [4, 5, 6], [7, 8, 9]]\n",
    "transposed = [[row[i] for row in matrix] for i in range(len(matrix[0]))]\n",
    "print(\"Transposed Matrix:\", transposed)\n"
   ]
  },
  {
   "cell_type": "code",
   "execution_count": null,
   "id": "f9b2eb6b-06d9-448a-bf62-8bbcbf82cc86",
   "metadata": {
    "id": "f9b2eb6b-06d9-448a-bf62-8bbcbf82cc86",
    "outputId": "738ed9e4-c144-437e-c428-0de6b01544a7"
   },
   "outputs": [
    {
     "name": "stdout",
     "output_type": "stream",
     "text": [
      "Multiplication Table: [[1, 2, 3, 4, 5], [2, 4, 6, 8, 10], [3, 6, 9, 12, 15], [4, 8, 12, 16, 20], [5, 10, 15, 20, 25]]\n"
     ]
    }
   ],
   "source": [
    "\n",
    "# 10. Create a multiplication table (1 to 5)\n",
    "table = [[i*j for j in range(1, 6)] for i in range(1, 6)]\n",
    "print(\"Multiplication Table:\", table)"
   ]
  },
  {
   "cell_type": "markdown",
   "id": "01da0718-c13e-4e61-87bb-b6d1e12769eb",
   "metadata": {
    "id": "01da0718-c13e-4e61-87bb-b6d1e12769eb"
   },
   "source": [
    "# SECTION 5: Assignments"
   ]
  },
  {
   "cell_type": "code",
   "execution_count": null,
   "id": "dcf858fb-8046-49f6-971f-a254a75a0c9e",
   "metadata": {
    "id": "dcf858fb-8046-49f6-971f-a254a75a0c9e"
   },
   "outputs": [],
   "source": [
    "# Assignment 1:\n",
    "# Create a list of all numbers from 1 to 100 that are divisible by both 3 and 5\n",
    "# Expected: [15, 30, 45, ..., 90]"
   ]
  },
  {
   "cell_type": "code",
   "execution_count": 3,
   "id": "8d6a94e9-4c9c-4fc5-ad49-5af0fc1affdc",
   "metadata": {},
   "outputs": [
    {
     "data": {
      "text/plain": [
       "[15, 30, 45, 60, 75, 90]"
      ]
     },
     "execution_count": 3,
     "metadata": {},
     "output_type": "execute_result"
    }
   ],
   "source": [
    "nums = [num for num in range(1,101) if num % 3 == 0 and num % 5 == 0]\n",
    "nums"
   ]
  },
  {
   "cell_type": "code",
   "execution_count": 13,
   "id": "0e54f822-1389-49ec-ab6c-ef178352c4ab",
   "metadata": {
    "id": "0e54f822-1389-49ec-ab6c-ef178352c4ab"
   },
   "outputs": [
    {
     "data": {
      "text/plain": [
       "['L',\n",
       " 's',\n",
       " 't',\n",
       " ' ',\n",
       " 'c',\n",
       " 'm',\n",
       " 'p',\n",
       " 'r',\n",
       " 'h',\n",
       " 'n',\n",
       " 's',\n",
       " 'n',\n",
       " ' ',\n",
       " 'm',\n",
       " 'k',\n",
       " 's',\n",
       " ' ',\n",
       " 'l',\n",
       " 'f',\n",
       " ' ',\n",
       " 's',\n",
       " 'r']"
      ]
     },
     "execution_count": 13,
     "metadata": {},
     "output_type": "execute_result"
    }
   ],
   "source": [
    "# Assignment 2:\n",
    "# Remove all vowels from a given sentence using list comprehension\n",
    "sentence = \"List comprehension makes life easier\"\n",
    "vowels = \"aeiouAEIOU\"\n",
    "\n",
    "str = [i for i in sentence if i not in vowels]\n",
    "str"
   ]
  },
  {
   "cell_type": "code",
   "execution_count": 17,
   "id": "a48a6aed-feac-4283-a90d-86070c19ddb8",
   "metadata": {
    "id": "a48a6aed-feac-4283-a90d-86070c19ddb8"
   },
   "outputs": [
    {
     "name": "stdout",
     "output_type": "stream",
     "text": [
      "[[0, 0, 0], [0, 0, 0], [0, 0, 0]]\n"
     ]
    }
   ],
   "source": [
    "# Assignment 3:\n",
    "# Create a 3x3 identity matrix using list comprehension\n",
    "\n",
    "matrix = [[0 for j in range(3)]for i in range(3)]\n",
    "print(matrix)"
   ]
  },
  {
   "cell_type": "code",
   "execution_count": 25,
   "id": "481ccaf6-9d82-42ba-bac8-b043c3c5ae50",
   "metadata": {
    "id": "481ccaf6-9d82-42ba-bac8-b043c3c5ae50"
   },
   "outputs": [
    {
     "data": {
      "text/plain": [
       "[2, 4, 6, 8]"
      ]
     },
     "execution_count": 25,
     "metadata": {},
     "output_type": "execute_result"
    }
   ],
   "source": [
    "# Assignment 4:\n",
    "# From a nested list of integers, flatten and filter out only even numbers\n",
    "nested = [[1,2,3],[4,5,6],[7,8,9]]\n",
    "\n",
    "lst = [element for sublist in nested for element in sublist if element % 2 == 0]\n",
    "lst"
   ]
  },
  {
   "cell_type": "code",
   "execution_count": 43,
   "id": "f8694b25-93b4-4897-80d4-7b030e69d669",
   "metadata": {
    "id": "f8694b25-93b4-4897-80d4-7b030e69d669"
   },
   "outputs": [
    {
     "data": {
      "text/plain": [
       "[1, 'a', 2, 'b', [3, 'c'], 4, 'd', 5, 6]"
      ]
     },
     "execution_count": 43,
     "metadata": {},
     "output_type": "execute_result"
    }
   ],
   "source": [
    "#5. Extract all integers from a nested list of mixed types (str, list, int)\n",
    "data = [1, 'a', [2, 'b', [3, 'c'], 4], 'd', [5, 6]]\n",
    "new_list = []\n",
    "for j in data:\n",
    "    if type(j) == list:\n",
    "        for i in j:\n",
    "            new_list.append(i)\n",
    "    else:\n",
    "        new_list.append(j)\n",
    "\n",
    "new_list"
   ]
  },
  {
   "cell_type": "code",
   "execution_count": 45,
   "id": "d693f789-de64-4e99-b501-f5f0cdc417ea",
   "metadata": {
    "id": "d693f789-de64-4e99-b501-f5f0cdc417ea"
   },
   "outputs": [
    {
     "data": {
      "text/plain": [
       "[1, 2, [3, [4, 5]], 6, 7]"
      ]
     },
     "execution_count": 45,
     "metadata": {},
     "output_type": "execute_result"
    }
   ],
   "source": [
    "# 6. Deep flattening a list\n"
   ]
  },
  {
   "cell_type": "code",
   "execution_count": 67,
   "id": "2103fcdd-57b3-4d06-b8b8-fc71c9188213",
   "metadata": {
    "id": "2103fcdd-57b3-4d06-b8b8-fc71c9188213"
   },
   "outputs": [
    {
     "data": {
      "text/plain": [
       "[[-1, 2, -1], [4, -1, 6], [-1, 8, -1]]"
      ]
     },
     "execution_count": 67,
     "metadata": {},
     "output_type": "execute_result"
    }
   ],
   "source": [
    "# 7. Replace all odd numbers in a matrix with -1 using nested list comprehension\n",
    "matrix = [[1, 2, 3], [4, 5, 6], [7, 8, 9]]\n",
    "\n",
    "matrix_1 = [[-1 if element % 2 != 0 else element for element in row]for row in matrix]\n",
    "matrix_1"
   ]
  },
  {
   "cell_type": "code",
   "execution_count": 73,
   "id": "4a6a4189-bbaa-461e-bf31-f479631ce379",
   "metadata": {
    "id": "4a6a4189-bbaa-461e-bf31-f479631ce379"
   },
   "outputs": [
    {
     "data": {
      "text/plain": [
       "[[0, 1, 2, 3, 4],\n",
       " [1, 2, 3, 4, 5],\n",
       " [2, 3, 4, 5, 6],\n",
       " [3, 4, 5, 6, 7],\n",
       " [4, 5, 6, 7, 8]]"
      ]
     },
     "execution_count": 73,
     "metadata": {},
     "output_type": "execute_result"
    }
   ],
   "source": [
    "# 8. Generate a 5x5 matrix with values as the sum of row and column indices\n",
    "\n",
    "matrix = [[i+j for j in range(5)]for i in range(5)]\n",
    "matrix"
   ]
  },
  {
   "cell_type": "code",
   "execution_count": null,
   "id": "3319249f-c087-4fe8-b8ff-01e1e09c26b3",
   "metadata": {
    "id": "3319249f-c087-4fe8-b8ff-01e1e09c26b3"
   },
   "outputs": [],
   "source": []
  }
 ],
 "metadata": {
  "colab": {
   "provenance": []
  },
  "kernelspec": {
   "display_name": "Python 3 (ipykernel)",
   "language": "python",
   "name": "python3"
  },
  "language_info": {
   "codemirror_mode": {
    "name": "ipython",
    "version": 3
   },
   "file_extension": ".py",
   "mimetype": "text/x-python",
   "name": "python",
   "nbconvert_exporter": "python",
   "pygments_lexer": "ipython3",
   "version": "3.12.4"
  }
 },
 "nbformat": 4,
 "nbformat_minor": 5
}

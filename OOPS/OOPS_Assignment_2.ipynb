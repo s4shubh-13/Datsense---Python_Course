{
 "cells": [
  {
   "cell_type": "markdown",
   "id": "801edc95-16a3-4114-89a4-edfcfd0bc5f3",
   "metadata": {},
   "source": [
    "# Library Management System"
   ]
  },
  {
   "cell_type": "markdown",
   "id": "4f8f618c-7e7f-460c-b981-8b82d4c44444",
   "metadata": {},
   "source": [
    "### Part 1: Create the Book Class"
   ]
  },
  {
   "cell_type": "markdown",
   "id": "fd8bcf2b-a884-4b94-849e-3ea8399ff51e",
   "metadata": {},
   "source": [
    "Attributes (what data should a book have?)<br>\n",
    "title – The name of the book<br>\n",
    "author – Who wrote the book<br>\n",
    "isbn – A unique identifier for the book<br>\n",
    "available – A boolean value indicating if the book is currently available (True) or borrowed (False)<br>"
   ]
  },
  {
   "cell_type": "code",
   "execution_count": 4,
   "id": "2c199f47-81b7-4c3f-9ab4-2d87882c3750",
   "metadata": {},
   "outputs": [],
   "source": [
    "class Book:\n",
    "    available = True # by default when any book object is created, it is marked as available\n",
    "\n",
    "    def __init__(self, title:str, author:str, bookid:int):\n",
    "        self.title = title\n",
    "        self.author = author\n",
    "        self.bookid = bookid\n",
    "\n",
    "    def mark_unavailable(self):\n",
    "        self.available = False\n",
    "\n",
    "    def mark_available(self):\n",
    "        self.available = True\n",
    "\n",
    "    def display_info(self):\n",
    "        print (f\"BookID : {self.bookid}\\nTitle : {self.title}\\nAuthor : {self.author}\\nAvailability : {self.available}\")"
   ]
  },
  {
   "cell_type": "code",
   "execution_count": 5,
   "id": "54228fa9-6ec3-4502-b9e9-3e2554ff8b4c",
   "metadata": {},
   "outputs": [
    {
     "name": "stdout",
     "output_type": "stream",
     "text": [
      "BookID : 100\n",
      "Title : The Best of Satyajit Ray\n",
      "Author : Satyajit Ray\n",
      "Availability : True\n",
      "BookID : 100\n",
      "Title : The Best of Satyajit Ray\n",
      "Author : Satyajit Ray\n",
      "Availability : False\n",
      "BookID : 100\n",
      "Title : The Best of Satyajit Ray\n",
      "Author : Satyajit Ray\n",
      "Availability : True\n"
     ]
    }
   ],
   "source": [
    "b1 = Book(\"The Best of Satyajit Ray\", \"Satyajit Ray\", 100)\n",
    "b1.display_info()\n",
    "b1.mark_unavailable()\n",
    "b1.display_info()\n",
    "b1.mark_available()\n",
    "b1.display_info()\n",
    "\n",
    "b2 = Book(\"Harry Potter\", \"J.K. Rowling\", 101)"
   ]
  },
  {
   "cell_type": "markdown",
   "id": "1bb716bc-ae19-49fa-81a9-2eb341a1f56d",
   "metadata": {},
   "source": [
    "### Part 2: Create the Library Class"
   ]
  },
  {
   "cell_type": "code",
   "execution_count": 24,
   "id": "325c9fee-ccce-4564-9d1d-f7d51cd4f1e3",
   "metadata": {},
   "outputs": [],
   "source": [
    "class Library:\n",
    "\n",
    "    def __init__(self):\n",
    "        self.booklist = []\n",
    "\n",
    "    def add_book(self,book:Book):\n",
    "        self.booklist.append(book)\n",
    "        print(f\"Book '{book.title}' added to the library.\")\n",
    "\n",
    "    def remove_book(self, bookid:int):\n",
    "        for book in self.booklist:\n",
    "            if book.bookid == bookid:\n",
    "                self.booklist.remove(book)\n",
    "                book.available = False\n",
    "                print(f\"Book with BookID '{bookid}' & title '{book.title}' removed from the library.\")\n",
    "\n",
    "    def borrow_book(self,bookid:int):\n",
    "        for book in self.booklist:\n",
    "            if book.bookid == bookid:\n",
    "                if book.available == True:\n",
    "                    book.mark_unavailable()\n",
    "                    print(f\"You have successfully borrowed '{book.title} - {book.bookid}'.\")\n",
    "                else:\n",
    "                    print(f\"Book '{book.title}' is currently unavailable.\")\n",
    "\n",
    "\n",
    "    def return_book(self, bookid:int):\n",
    "        for book in self.booklist:\n",
    "            if book.bookid == bookid:\n",
    "                book.mark_available()\n",
    "                print(f\"Book '{book.title} - {book.bookid}' has been returned.\")\n",
    "            \n",
    "        \n",
    "\n",
    "    def info(self):\n",
    "        for book in self.booklist:\n",
    "            print(f\"Books : {book.title}\\nAuthor : {book.author}\\nBookID:{book.bookid}\")\n",
    "        "
   ]
  },
  {
   "cell_type": "code",
   "execution_count": 26,
   "id": "ac36600b-5f6f-4d24-9170-b59eb3ead8fe",
   "metadata": {},
   "outputs": [
    {
     "name": "stdout",
     "output_type": "stream",
     "text": [
      "Book 'The Best of Satyajit Ray' added to the library.\n",
      "Book 'Harry Potter' added to the library.\n",
      "You have successfully borrowed 'Harry Potter - 101'.\n",
      "Book 'Harry Potter - 101' has been returned.\n",
      "Book with BookID '100' & title 'The Best of Satyajit Ray' removed from the library.\n"
     ]
    },
    {
     "data": {
      "text/plain": [
       "False"
      ]
     },
     "execution_count": 26,
     "metadata": {},
     "output_type": "execute_result"
    }
   ],
   "source": [
    "lib = Library()\n",
    "lib.add_book(b1)\n",
    "lib.add_book(b2)\n",
    "\n",
    "lib.borrow_book(101)\n",
    "lib.return_book(101)\n",
    "\n",
    "lib.remove_book(100)\n",
    "b1.available"
   ]
  },
  {
   "cell_type": "code",
   "execution_count": 32,
   "id": "cd6a15d6-b7f1-487a-a833-9ecde492abc5",
   "metadata": {},
   "outputs": [
    {
     "name": "stdout",
     "output_type": "stream",
     "text": [
      "Book 'As Good As My Word' added to the library.\n"
     ]
    }
   ],
   "source": [
    "b3 = Book(\"As Good As My Word\",\"KM Chandrashekhar\",103)\n",
    "lib.add_book(b3)"
   ]
  },
  {
   "cell_type": "code",
   "execution_count": 34,
   "id": "50cc3081-ab5c-44bc-afec-3f8c65d52ad2",
   "metadata": {},
   "outputs": [
    {
     "name": "stdout",
     "output_type": "stream",
     "text": [
      "Books : Harry Potter\n",
      "Author : J.K. Rowling\n",
      "BookID:101\n",
      "Books : As Good As My Word\n",
      "Author : KM Chandrashekhar\n",
      "BookID:103\n"
     ]
    }
   ],
   "source": [
    "lib.info()"
   ]
  },
  {
   "cell_type": "code",
   "execution_count": null,
   "id": "6a732dc8-4a69-4df7-9374-60864244b9f2",
   "metadata": {},
   "outputs": [],
   "source": []
  },
  {
   "cell_type": "code",
   "execution_count": null,
   "id": "e11b1ce2-5529-4f0c-9ed7-4d09fa396ab5",
   "metadata": {},
   "outputs": [],
   "source": []
  }
 ],
 "metadata": {
  "kernelspec": {
   "display_name": "Python 3 (ipykernel)",
   "language": "python",
   "name": "python3"
  },
  "language_info": {
   "codemirror_mode": {
    "name": "ipython",
    "version": 3
   },
   "file_extension": ".py",
   "mimetype": "text/x-python",
   "name": "python",
   "nbconvert_exporter": "python",
   "pygments_lexer": "ipython3",
   "version": "3.12.4"
  }
 },
 "nbformat": 4,
 "nbformat_minor": 5
}

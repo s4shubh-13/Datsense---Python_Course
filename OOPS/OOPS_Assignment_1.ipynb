{
 "cells": [
  {
   "cell_type": "markdown",
   "id": "ca970278-bb2c-488a-891b-277554550e50",
   "metadata": {},
   "source": [
    "# OOPS- Practice Set"
   ]
  },
  {
   "cell_type": "markdown",
   "id": "e015839a-f6b9-41b6-9133-5a49534044ba",
   "metadata": {},
   "source": [
    "## Question 1: Gym Membership System\n",
    "\n",
    "**Scenario:**\n",
    "\n",
    "A neighborhood gym wants to digitize its member registration. Every member has a name and age. The gym has a fixed joining fee for all members. Also, anyone below the age of 13 is not allowed to join.\n",
    "\n",
    "**Tasks:**\n",
    "\n",
    "1. Design a way to represent a member in this system.\n",
    "\n",
    "2. Store the member's name and age.\n",
    "\n",
    "3. Ensure the system prevents anyone under 13 from being added.\n",
    "\n",
    "4. There should be a way to view the member's details including their fee.\n"
   ]
  },
  {
   "cell_type": "code",
   "execution_count": 11,
   "id": "6a2e0a4f-6531-47dd-8fc9-53bdb60c67b9",
   "metadata": {},
   "outputs": [
    {
     "ename": "NameError",
     "evalue": "name 'GymMember' is not defined",
     "output_type": "error",
     "traceback": [
      "\u001b[1;31m---------------------------------------------------------------------------\u001b[0m",
      "\u001b[1;31mNameError\u001b[0m                                 Traceback (most recent call last)",
      "Cell \u001b[1;32mIn[11], line 4\u001b[0m\n\u001b[0;32m      1\u001b[0m \u001b[38;5;66;03m# Test\u001b[39;00m\n\u001b[0;32m      2\u001b[0m \n\u001b[0;32m      3\u001b[0m \u001b[38;5;66;03m# Should work fine\u001b[39;00m\n\u001b[1;32m----> 4\u001b[0m m1 \u001b[38;5;241m=\u001b[39m GymMember(\u001b[38;5;124m\"\u001b[39m\u001b[38;5;124mRohit\u001b[39m\u001b[38;5;124m\"\u001b[39m, \u001b[38;5;241m25\u001b[39m)\n\u001b[0;32m      5\u001b[0m \u001b[38;5;28mprint\u001b[39m(m1\u001b[38;5;241m.\u001b[39mdetails())  \u001b[38;5;66;03m# Expected: Name: Rohit, Age: 25, Fee: 500\u001b[39;00m\n\u001b[0;32m      7\u001b[0m \u001b[38;5;66;03m# Should raise an error\u001b[39;00m\n",
      "\u001b[1;31mNameError\u001b[0m: name 'GymMember' is not defined"
     ]
    }
   ],
   "source": [
    "# Test\n",
    "\n",
    "# Should work fine\n",
    "m1 = GymMember(\"Rohit\", 25)\n",
    "print(m1.details())  # Expected: Name: Rohit, Age: 25, Fee: 500\n",
    "\n",
    "# Should raise an error\n",
    "m2 = GymMember(\"Ankit\", 10)  # Should not be allowed\n",
    "\n",
    "# Check if fee is same for all\n",
    "m3 = GymMember(\"Sonal\", 30)\n",
    "print(m1.joining_fee == m3.joining_fee)  # Expected: True\n"
   ]
  },
  {
   "cell_type": "code",
   "execution_count": null,
   "id": "ad782271-5a7d-4abf-9dab-7c7be481a92f",
   "metadata": {},
   "outputs": [],
   "source": [
    "class GymMember:\n",
    "    fee = 1000\n",
    "    \n",
    "    def __init__(self, name:str, age:int):\n",
    "        if age < 13:\n",
    "            raise ValueError(\"Member must be at least 13 years old to join.\")\n",
    "        self.name = name\n",
    "        self.age = age\n",
    "\n",
    "\n",
    "    def details(self):\n",
    "        return {\"Name\" : self.name, \"Age\" : self.age, \"Fee\" : self.fee}\n",
    "        \n",
    "\n",
    "\n",
    "m1 = GymMember(\"Rohit\", 18)\n",
    "m2 = GymMember(\"Ria\", 23)\n",
    "\n",
    "print(m1.details())\n",
    "print(m2.details())\n",
    "\n"
   ]
  },
  {
   "cell_type": "code",
   "execution_count": null,
   "id": "151e6d19-6eef-4623-a26f-f7af4b3432b4",
   "metadata": {},
   "outputs": [],
   "source": [
    "m3 = GymMember(\"Rahul\", 12)"
   ]
  },
  {
   "cell_type": "markdown",
   "id": "91f85348-8a0a-4ba7-bfb8-a3b17d8a1dc9",
   "metadata": {},
   "source": [
    "## Question 2: Employee Bonus Calculator\n",
    "\n",
    "**Scenario:**\n",
    "\n",
    "A company is planning to automate bonus calculations. Every employee has a name, salary, and a performance score. If the score is more than 80, they get a 10% bonus. Salaries must always be positive, and scores should not exceed 100.\n",
    "\n",
    "**Tasks:**\n",
    "\n",
    "1. Represent employees with relevant information.\n",
    "\n",
    "2. Ensure salaries are always valid.\n",
    "\n",
    "3. Ensure scores are within limits.\n",
    "\n",
    "4. There should be a way to compute the bonus for an employee."
   ]
  },
  {
   "cell_type": "code",
   "execution_count": null,
   "id": "818dc7c8-528c-4c1d-9e15-de6c0f3746e7",
   "metadata": {},
   "outputs": [],
   "source": [
    "# Test Conditions\n",
    "\n",
    "e1 = Employee(\"Neha\", 50000, 85)\n",
    "print(e1.calculate_bonus())  # Expected: 5000.0\n",
    "\n",
    "e2 = Employee(\"Amit\", 60000, 60)\n",
    "print(e2.calculate_bonus())  # Expected: 0.0\n",
    "\n",
    "# Invalid salary or score\n",
    "e3 = Employee(\"John\", -40000, 75)  # Should raise error\n",
    "e4 = Employee(\"Kiran\", 40000, 120)  # Should raise error\n"
   ]
  },
  {
   "cell_type": "code",
   "execution_count": null,
   "id": "854d203a-103b-4542-a611-63d5cc44b5ac",
   "metadata": {},
   "outputs": [],
   "source": [
    "class Employee:\n",
    "\n",
    "    def __init__(self, name:str, salary:int, performanceScore:int):\n",
    "        if salary < 0:\n",
    "            raise ValueError(\"Salaries must always be positive.\")\n",
    "        if performanceScore < 0 or performanceScore > 100:\n",
    "            raise ValueError(\"Performance score must not exceed 100\")\n",
    "            \n",
    "        self.name = name\n",
    "        self.salary = salary\n",
    "        self.performanceScore = performanceScore\n",
    "\n",
    "    def details(self):\n",
    "        return {\"Name\" : self.name, \"Salary\" : self.salary, \"Performance Score\" : self.performanceScore}\n",
    "\n",
    "    def calculate_bonus(self):\n",
    "        if self.performanceScore > 80:\n",
    "            bonus = self.salary * 0.1\n",
    "            total_salary = self.salary + bonus\n",
    "            return (f\"The performance bonus for {self.name} is {bonus} and final salary is {total_salary}\")\n",
    "        else:\n",
    "            return print(f\"{self.name} is not eligible for the bonus due to low performance score\")\n",
    "\n",
    "\n",
    "\n",
    "e1 = Employee(\"Ravi\", 50000, 70)\n",
    "print(e1.details())\n",
    "print(e1.calculate_bonus())\n",
    "\n",
    "\n",
    "e2 = Employee(\"Isha\", 100000, 90)\n",
    "print(e2.details())\n",
    "print(e2.calculate_bonus())"
   ]
  },
  {
   "cell_type": "code",
   "execution_count": null,
   "id": "93a8f388-6c4d-4cef-b45e-095b9f582aac",
   "metadata": {},
   "outputs": [],
   "source": [
    "e3 = Employee(\"Varun\", -10000, 100)"
   ]
  },
  {
   "cell_type": "markdown",
   "id": "74a48785-115b-4479-a223-a4e43e387aea",
   "metadata": {},
   "source": [
    "## Question 3: Book Lending Tracker\n",
    "\n",
    "**Scenario:**\n",
    "\n",
    "A small library wants a system to manage books. Each book has a title and an author. By default, books are marked as available. When a book is given to someone, its status should change to unavailable.\n",
    "\n",
    "**Tasks:**\n",
    "\n",
    "1. Create a way to represent books in the system.\n",
    "2. Store title and author.\n",
    "3. Maintain a status that shows whether the book is available.\n",
    "4. Allow status to be updated when a book is issued.\n",
    "5. There should be a way to see book info including availability."
   ]
  },
  {
   "cell_type": "code",
   "execution_count": null,
   "id": "77bb08b7-3efa-4762-ae5a-ccb311147afe",
   "metadata": {},
   "outputs": [],
   "source": [
    "b1 = Book(\"Wings of Fire\", \"A.P.J Abdul Kalam\")\n",
    "print(b1.info())  # Expected to include \"Available: True\"\n",
    "\n",
    "b1.issue_book()\n",
    "print(b1.info())  # Expected to include \"Available: False\"\n",
    "\n",
    "# Create another book\n",
    "b2 = Book(\"1984\", \"George Orwell\")\n",
    "print(b2.info())  # Should still be available\n"
   ]
  },
  {
   "cell_type": "code",
   "execution_count": null,
   "id": "70b5432c-1c26-451e-8d04-22be6fc7d148",
   "metadata": {},
   "outputs": [],
   "source": [
    "class Book:\n",
    "    status = \"Available\"\n",
    "    \n",
    "    def __init__(self, title:str, author:str):\n",
    "        self.title = title\n",
    "        self.author = author\n",
    "    \n",
    "\n",
    "    def issue_book(self):\n",
    "        if self.status == \"Available\":\n",
    "            self.status = \"Not available\"\n",
    "\n",
    "    def info(self):\n",
    "        return {\"Title\" : self.title , \"Author\" : self.author, \"Availability\" : self.status}\n",
    "\n",
    "\n",
    "b1 = Book(\"Four Stars of Destiny\", \"General Manoj Mukund Naravane\")\n",
    "print(b1.info())\n",
    "b1.issue_book()\n",
    "print(b1.info())\n",
    "\n",
    "b2 = Book(\"The Best of Satyajit Ray\", \"Satyajit Ray\")\n",
    "print(b2.info())"
   ]
  },
  {
   "cell_type": "markdown",
   "id": "5ce5daa7-3331-425d-b035-015831817a7b",
   "metadata": {},
   "source": [
    "# Question 4: Student Progress Tracker\n",
    "\n",
    "**Scenario:**\n",
    "\n",
    "You are building a progress tracker for students in an online learning app. Every student has a name and a unique ID. Each student can enroll in multiple courses, mark courses as completed, and calculate the percentage of courses completed. You also want to keep track of how many students have been created in total.\n",
    "\n",
    "**Tasks:**\n",
    "\n",
    "1. Represent each student with a name and unique student ID.\n",
    "2. Keep track of all the courses they enroll in (store inside each student).\n",
    "3. Maintain a count of how many students exist (shared across all).\n",
    "4. Allow:\n",
    "   a) Enrolling in a new course.\n",
    "   b) Marking a course as completed.\n",
    "   c) Getting all completed courses.\n",
    "   d) Calculating percent completion.\n",
    "\n"
   ]
  },
  {
   "cell_type": "code",
   "execution_count": null,
   "id": "02b131b6-1d24-471b-8583-3a5de1c376aa",
   "metadata": {},
   "outputs": [],
   "source": [
    "# Test\n",
    "\n",
    "s1 = Student(\"Aarav\", \"STU001\")\n",
    "s2 = Student(\"Tanya\", \"STU002\")\n",
    "\n",
    "# Enroll courses\n",
    "s1.enroll(\"Python\")\n",
    "s1.enroll(\"Data Science\")\n",
    "s1.enroll(\"SQL\")\n",
    "\n",
    "# Mark some as completed\n",
    "s1.complete(\"Python\")\n",
    "s1.complete(\"SQL\")\n",
    "\n",
    "print(s1.get_completed_courses())  \n",
    "# ✅ ['Python', 'SQL']\n",
    "\n",
    "print(s1.completion_rate())        \n",
    "# ✅ 66.67%\n",
    "\n",
    "print(Student.total_students())    \n",
    "# ✅ 2\n"
   ]
  },
  {
   "cell_type": "code",
   "execution_count": 24,
   "id": "537daa24-860f-4951-a638-6aebcfb6afc8",
   "metadata": {},
   "outputs": [
    {
     "name": "stdout",
     "output_type": "stream",
     "text": [
      "Name : Jay\n",
      "StudentID : 1001\n",
      "Enrolled Courses : ['Python', 'Java', 'C++']\n",
      "Completed Courses : []\n",
      "Completion Rate : 0.0\n",
      "You have not finished any course yet.\n",
      "Congrats! You have completed Python course.\n",
      "Name : Jay\n",
      "StudentID : 1001\n",
      "Enrolled Courses : ['Java', 'C++']\n",
      "Completed Courses : ['Python']\n",
      "Completion Rate : 33.33\n",
      "Name : Ria\n",
      "StudentID : 1002\n",
      "Enrolled Courses : ['Statistics', 'Deep learning']\n",
      "Completed Courses : []\n",
      "Completion Rate : 0.0\n",
      "You have not finished any course yet.\n",
      "Congrats! You have completed Statistics course.\n",
      "Name : Ria\n",
      "StudentID : 1002\n",
      "Enrolled Courses : ['Deep learning']\n",
      "Completed Courses : ['Statistics']\n",
      "Completion Rate : 50.0\n",
      "Name : Vinay\n",
      "StudentID : 1003\n",
      "Enrolled Courses : ['DSA', 'Data Analysis']\n",
      "Completed Courses : []\n",
      "Completion Rate : 0.0\n",
      "You have not finished any course yet.\n"
     ]
    }
   ],
   "source": [
    "class Student:\n",
    "    total = 0\n",
    "\n",
    "    def __init__(self, name:str, studentID:int):\n",
    "        self.name = name\n",
    "        self.studentid = studentID\n",
    "        self.enrolled_courses = []\n",
    "        self.completed_courses = []\n",
    "        Student.total += 1\n",
    "\n",
    "    def enroll(self, course:str):\n",
    "        self.enrolled_courses.append(course)\n",
    "\n",
    "    def mark_complete_course(self, course:str):\n",
    "        if course in self.enrolled_courses:\n",
    "            self.enrolled_courses.remove(course)\n",
    "        else:\n",
    "            raise ValueError(f\"You haven't enrolled for {course} course, kindly enroll the same and complete before\")\n",
    "            \n",
    "        self.completed_courses.append(course)\n",
    "        return print(f\"Congrats! You have completed {course} course.\")\n",
    "\n",
    "    def get_completed_courses(self):\n",
    "        if not self.completed_courses:\n",
    "            print(\"You have not finished any course yet.\")\n",
    "        else:\n",
    "            return self.completed_courses\n",
    "\n",
    "    def completion_rate(self):\n",
    "        total_courses = len(self.enrolled_courses) + len(self.completed_courses)\n",
    "        if total_courses == 0:\n",
    "            return 0.00\n",
    "        completion_rate = (len(self.completed_courses) / total_courses) * 100\n",
    "        return round(completion_rate, 2)\n",
    "\n",
    "    @classmethod\n",
    "    def total_students(cls):\n",
    "        return cls.total\n",
    "\n",
    "    def info(self):\n",
    "        return print(f\"Name : {self.name}\\nStudentID : {self.studentid}\\nEnrolled Courses : {self.enrolled_courses}\\nCompleted Courses : {self.completed_courses}\\nCompletion Rate : {self.completion_rate()}\")\n",
    "\n",
    "    \n",
    "\n",
    "s1 = Student(\"Jay\", 1001)\n",
    "s1.enroll(\"Python\")\n",
    "s1.enroll(\"Java\")\n",
    "s1.enroll(\"C++\")\n",
    "s1.info()\n",
    "\n",
    "s1.get_completed_courses()\n",
    "s1.mark_complete_course(\"Python\")\n",
    "s1.info()\n",
    "\n",
    "\n",
    "s2 = Student(\"Ria\", 1002)\n",
    "s2.enroll(\"Statistics\")\n",
    "s2.enroll(\"Deep learning\")\n",
    "s2.info()\n",
    "s2.get_completed_courses()\n",
    "s2.mark_complete_course(\"Statistics\")\n",
    "s2.info()\n",
    "\n",
    "\n",
    "s3 = Student(\"Vinay\", 1003)\n",
    "s3.enroll(\"DSA\")\n",
    "s3.enroll(\"Data Analysis\")\n",
    "s3.info()\n",
    "s3.get_completed_courses()"
   ]
  },
  {
   "cell_type": "code",
   "execution_count": 26,
   "id": "d331fda7-fba3-4b52-9bd4-074a414ec680",
   "metadata": {},
   "outputs": [
    {
     "data": {
      "text/plain": [
       "3"
      ]
     },
     "execution_count": 26,
     "metadata": {},
     "output_type": "execute_result"
    }
   ],
   "source": [
    "Student.total_students()"
   ]
  },
  {
   "cell_type": "code",
   "execution_count": null,
   "id": "d1fbcc6f-7d0c-49c1-8f49-e4c33fab2b51",
   "metadata": {},
   "outputs": [],
   "source": []
  }
 ],
 "metadata": {
  "kernelspec": {
   "display_name": "Python 3 (ipykernel)",
   "language": "python",
   "name": "python3"
  },
  "language_info": {
   "codemirror_mode": {
    "name": "ipython",
    "version": 3
   },
   "file_extension": ".py",
   "mimetype": "text/x-python",
   "name": "python",
   "nbconvert_exporter": "python",
   "pygments_lexer": "ipython3",
   "version": "3.12.4"
  }
 },
 "nbformat": 4,
 "nbformat_minor": 5
}

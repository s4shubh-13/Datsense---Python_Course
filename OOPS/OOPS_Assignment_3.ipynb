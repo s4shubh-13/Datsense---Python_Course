{
 "cells": [
  {
   "cell_type": "markdown",
   "id": "b9211a30-4400-40b3-99da-5ebdc9a0dce4",
   "metadata": {},
   "source": [
    "# Game and Gamers management"
   ]
  },
  {
   "cell_type": "markdown",
   "id": "da894ab7-92c7-4e4b-af70-fddef89a2ec2",
   "metadata": {},
   "source": [
    "### Gamer class"
   ]
  },
  {
   "cell_type": "code",
   "execution_count": 1,
   "id": "9b26ee20-ffc8-48c1-befd-e1c565bce786",
   "metadata": {},
   "outputs": [],
   "source": [
    "# Gamer class\n",
    "class Gamer:\n",
    "    def __init__(self, username: str, level: int):\n",
    "        assert level >= 1, \"Level must be at least 1\"\n",
    "        self.username = username\n",
    "        self.level = level\n",
    "\n",
    "    def level_up(self):\n",
    "        self.level += 1\n",
    "        print(f\"Level up! {self.username} have been promoted to level {self.level}\")\n",
    "\n",
    "    def info(self):\n",
    "        print(f\"Player : {self.username} | Level : {self.level}\")\n"
   ]
  },
  {
   "cell_type": "markdown",
   "id": "9b56d1f3-d29f-4e8e-9622-bb0f399fe08a",
   "metadata": {},
   "source": [
    "### Game class"
   ]
  },
  {
   "cell_type": "code",
   "execution_count": 3,
   "id": "7541f317-3660-4eb3-a132-0887681bc5a7",
   "metadata": {},
   "outputs": [],
   "source": [
    "# Game class\n",
    "class Game:\n",
    "    players = []\n",
    "\n",
    "    def __init__(self, name: str, min_level: int):\n",
    "        self.name = name\n",
    "        self.min_level = min_level\n",
    "        self.players = []\n",
    "\n",
    "    def join_game(self, gamer: Gamer):\n",
    "        assert type(gamer) == Gamer, \"Invalid input! Gamer must be an object of Gamer class.\"\n",
    "        if gamer.level >= self.min_level:\n",
    "            self.players.append(gamer.username)\n",
    "            print(f\"{gamer.username} has joined the game : {self.name}!\")\n",
    "        else:\n",
    "            print(f\"{gamer.username} is not eligible to join the game : {self.name}. Minimum required level is {self.min_level}\")\n",
    "\n",
    "    def show_players(self):\n",
    "        print(f\"Players in {self.name} : {self.players}\")\n",
    "\n",
    "    def info(self):\n",
    "        print(f\"Game : {self.name} | Minimum Level : {self.min_level} | Players : {self.players}\")\n"
   ]
  },
  {
   "cell_type": "markdown",
   "id": "d5b2db1b-9553-4b69-b628-90e93154e020",
   "metadata": {},
   "source": [
    "### Working with the classes"
   ]
  },
  {
   "cell_type": "code",
   "execution_count": 5,
   "id": "49c5ae79-212d-4fbd-b0cb-55b272ca430c",
   "metadata": {},
   "outputs": [
    {
     "name": "stdout",
     "output_type": "stream",
     "text": [
      "Brian is not eligible to join the game : Ghost of Tsushima. Minimum required level is 2\n",
      "Cox has joined the game : Ghost of Tsushima!\n",
      "Niko has joined the game : Ghost of Tsushima!\n",
      "Brian has joined the game : Call of Duty : Advance warfare!\n",
      "Cox has joined the game : Call of Duty : Advance warfare!\n",
      "Niko has joined the game : Call of Duty : Advance warfare!\n"
     ]
    }
   ],
   "source": [
    "# step 1 : create 3 gamers\n",
    "gamer_1 = Gamer(\"Brian\", 1)\n",
    "gamer_2 = Gamer(\"Cox\", 2)\n",
    "gamer_3 = Gamer(\"Niko\", 3)\n",
    "\n",
    "# step 2 : Create 2 games\n",
    "game_1 = Game(\"Ghost of Tsushima\", 2)\n",
    "game_2 = Game(\"Call of Duty : Advance warfare\", 1)\n",
    "\n",
    "# step 3 : join attempt\n",
    "game_1.join_game(gamer_1)\n",
    "game_1.join_game(gamer_2)\n",
    "game_1.join_game(gamer_3)\n",
    "\n",
    "game_2.join_game(gamer_1)\n",
    "game_2.join_game(gamer_2)\n",
    "game_2.join_game(gamer_3)\n"
   ]
  },
  {
   "cell_type": "code",
   "execution_count": 7,
   "id": "a0de5b5b-f9cd-4cd1-bcc6-ef36d313fead",
   "metadata": {},
   "outputs": [
    {
     "name": "stdout",
     "output_type": "stream",
     "text": [
      "Level up! Brian have been promoted to level 2\n",
      "Level up! Cox have been promoted to level 3\n",
      "Level up! Niko have been promoted to level 4\n",
      "Brian has joined the game : Ghost of Tsushima!\n",
      "Cox has joined the game : Ghost of Tsushima!\n",
      "Niko has joined the game : Ghost of Tsushima!\n",
      "Brian has joined the game : Call of Duty : Advance warfare!\n",
      "Cox has joined the game : Call of Duty : Advance warfare!\n",
      "Niko has joined the game : Call of Duty : Advance warfare!\n"
     ]
    }
   ],
   "source": [
    "# step 4.1 level up\n",
    "gamer_1.level_up()\n",
    "gamer_2.level_up()\n",
    "gamer_3.level_up()\n",
    "\n",
    "game_1.join_game(gamer_1)\n",
    "game_1.join_game(gamer_2)\n",
    "game_1.join_game(gamer_3)\n",
    "\n",
    "game_2.join_game(gamer_1)\n",
    "game_2.join_game(gamer_2)\n",
    "game_2.join_game(gamer_3)\n"
   ]
  },
  {
   "cell_type": "code",
   "execution_count": 11,
   "id": "2256361f-e839-43ab-b703-8f2bc4fab624",
   "metadata": {},
   "outputs": [
    {
     "name": "stdout",
     "output_type": "stream",
     "text": [
      "Players in Ghost of Tsushima : ['Cox', 'Niko', 'Brian', 'Cox', 'Niko']\n",
      "Players in Call of Duty : Advance warfare : ['Brian', 'Cox', 'Niko', 'Brian', 'Cox', 'Niko']\n"
     ]
    }
   ],
   "source": [
    "game_1.show_players()\n",
    "game_2.show_players()\n",
    "# the list gives duplicates everytime I run the code."
   ]
  },
  {
   "cell_type": "code",
   "execution_count": null,
   "id": "a5661c8a-f75d-4373-82ab-7b7a25bf1eb3",
   "metadata": {},
   "outputs": [],
   "source": []
  }
 ],
 "metadata": {
  "kernelspec": {
   "display_name": "Python 3 (ipykernel)",
   "language": "python",
   "name": "python3"
  },
  "language_info": {
   "codemirror_mode": {
    "name": "ipython",
    "version": 3
   },
   "file_extension": ".py",
   "mimetype": "text/x-python",
   "name": "python",
   "nbconvert_exporter": "python",
   "pygments_lexer": "ipython3",
   "version": "3.12.4"
  }
 },
 "nbformat": 4,
 "nbformat_minor": 5
}

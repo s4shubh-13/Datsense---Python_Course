{
 "cells": [
  {
   "cell_type": "markdown",
   "id": "df546cd5-9d31-4d11-85d1-e4accc631469",
   "metadata": {},
   "source": [
    "# Loops Pracitce"
   ]
  },
  {
   "cell_type": "markdown",
   "id": "f5e7855b-8d09-46b8-94e2-9395df500787",
   "metadata": {},
   "source": [
    "**Question 1: ATM PIN**\n",
    "\n",
    "You're building a basic ATM security system. When a user inserts their ATM card, they are asked to enter a 4-digit PIN. The user gets only **3 chances** to enter the correct PIN.\n",
    "\n",
    "1. If the correct PIN is entered, print \"Access Granted.\"\n",
    "\n",
    "2. If the user enters the wrong PIN 3 times in a row, print \"Card Blocked.\"\n",
    "\n",
    "Write a program using a loop to simulate this behavior. **Use the correct PIN as \"1234\" for now.**"
   ]
  },
  {
   "cell_type": "code",
   "execution_count": 13,
   "id": "8205332f-255b-49dd-a206-bfab92b2dff6",
   "metadata": {},
   "outputs": [
    {
     "name": "stdin",
     "output_type": "stream",
     "text": [
      "Enter the 4-digit PIN : 1234\n"
     ]
    },
    {
     "name": "stdout",
     "output_type": "stream",
     "text": [
      "Access Granted.\n"
     ]
    }
   ],
   "source": [
    "correct_pin = 1234\n",
    "num_trials = 3\n",
    "\n",
    "for trial in range(num_trials):\n",
    "    pin = int(input(\"Enter the 4-digit PIN :\"))\n",
    "\n",
    "    if pin == correct_pin:\n",
    "        print(\"Access Granted.\")\n",
    "        break\n",
    "    else:\n",
    "        if trial == 2:\n",
    "            print(\"Card Blocked.\")\n",
    "            break\n",
    "        else:\n",
    "            print(\"Please enter the PIN again\")\n",
    "   "
   ]
  },
  {
   "cell_type": "markdown",
   "id": "1e76fb3a-5415-4df0-83c2-a2374f13bc41",
   "metadata": {},
   "source": [
    "**Question 2: Reverse a Number**\n",
    "\n",
    "Ask the user to enter an integer number. Your task is to **reverse the digits** of that number and display the reversed number.\n",
    "\n",
    "**Example:**\n",
    "\n",
    "1. If the user enters 1234, your program should print 4321.\n",
    "2. If they enter 5080, it should print 805."
   ]
  },
  {
   "cell_type": "code",
   "execution_count": 3,
   "id": "c3acc850-17bd-4e63-ad83-b361b47150d4",
   "metadata": {},
   "outputs": [
    {
     "name": "stdin",
     "output_type": "stream",
     "text": [
      "Enter a number : 1234\n"
     ]
    },
    {
     "name": "stdout",
     "output_type": "stream",
     "text": [
      "The reversed number is : 4321\n"
     ]
    }
   ],
   "source": [
    "num = int(input(\"Enter a number :\"))\n",
    "reversed_num = 0\n",
    "\n",
    "while num > 0:\n",
    "    digit = num % 10\n",
    "    reversed_num = (reversed_num * 10) + digit\n",
    "    num = num // 10\n",
    "\n",
    "print(f\"The reversed number is : {reversed_num}\")"
   ]
  },
  {
   "cell_type": "markdown",
   "id": "59b2a1ac-7e0b-4d06-bf22-6099c5382872",
   "metadata": {},
   "source": [
    "**Question 3: Prison Cell**\n",
    "\n",
    "There are 100 prison cells, all initially **closed (locked)**. There are also 100 prisoners, each assigned a unique number from 1 to 100.\n",
    "\n",
    "They play a strange game with the doors:\n",
    "\n",
    "1. Prisoner 1 toggles every door (opens them all).\n",
    "\n",
    "2. Prisoner 2 toggles every 2nd door (i.e., 2, 4, 6, ...).\n",
    "\n",
    "3. Prisoner 3 toggles every 3rd door (3, 6, 9, ...).\n",
    "\n",
    "...\n",
    "\n",
    "100. Prisoner 100 toggles every 100th door (just door 100).\n",
    "\n",
    "**Toggle means:**\n",
    "\n",
    "1. If the door is closed, it becomes open.\n",
    "\n",
    "2. If the door is open, it becomes closed.\n",
    "\n",
    "After all 100 prisoners have taken their turn,\n",
    "\n",
    "**Which doors will remain open?**"
   ]
  },
  {
   "cell_type": "code",
   "execution_count": 31,
   "id": "58e9aeaa-fd05-458d-bb34-40b462df0827",
   "metadata": {},
   "outputs": [],
   "source": [
    "## Tried but not able to build the logic"
   ]
  },
  {
   "cell_type": "markdown",
   "id": "4431b408-2578-4a7e-baf7-c5aea51210c5",
   "metadata": {},
   "source": [
    "**Question 4: Count Digits in a Number**\n",
    "\n",
    "Take an integer from the user and count how many digits it has"
   ]
  },
  {
   "cell_type": "code",
   "execution_count": 44,
   "id": "6e3f58e3-813b-43e7-9e9c-f721bd1aaeff",
   "metadata": {},
   "outputs": [
    {
     "name": "stdin",
     "output_type": "stream",
     "text": [
      "Enter a number : 45\n"
     ]
    },
    {
     "name": "stdout",
     "output_type": "stream",
     "text": [
      "total digits : 2 \n"
     ]
    }
   ],
   "source": [
    "num = int(input(\"Enter a number :\"))\n",
    "count = 0\n",
    "\n",
    "if num == 0:\n",
    "    count = 1\n",
    "while num > 0:\n",
    "    num = num // 10\n",
    "    count += 1\n",
    "\n",
    "print(f\"total digits : {count} \")"
   ]
  },
  {
   "cell_type": "markdown",
   "id": "44bd0745-e75e-4666-a313-634d47a786d6",
   "metadata": {},
   "source": [
    "**Question 5: Take a number from the user and calculate its factorial using a for loop.**\n",
    "\n",
    "Factorial of n is: n * (n-1) * (n-2) * ... * 1"
   ]
  },
  {
   "cell_type": "code",
   "execution_count": 50,
   "id": "65547574-299f-41cd-81f3-664a2f9efe56",
   "metadata": {},
   "outputs": [
    {
     "name": "stdin",
     "output_type": "stream",
     "text": [
      "Enter a number : 5\n"
     ]
    },
    {
     "name": "stdout",
     "output_type": "stream",
     "text": [
      "Factorial of 5 is 120\n"
     ]
    }
   ],
   "source": [
    "number = int(input(\"Enter a number :\"))\n",
    "num = number\n",
    "fact = 1\n",
    "\n",
    "while num > 0:\n",
    "    fact *=  num\n",
    "    num -= 1\n",
    "\n",
    "print(f\"Factorial of {number} is {fact}\")"
   ]
  },
  {
   "cell_type": "markdown",
   "id": "2acf198c-b3f8-4166-a69c-08a42b13d844",
   "metadata": {},
   "source": [
    "**Question 6: Find the Greatest Digit in a Number**\n",
    "\n",
    "Take an integer input and find the largest digit in it.\n",
    "\n",
    "Example: 59281 → output: 9"
   ]
  },
  {
   "cell_type": "code",
   "execution_count": 58,
   "id": "b38a5f1a-1f89-4f58-9dfd-7d9e45dc684a",
   "metadata": {},
   "outputs": [
    {
     "name": "stdin",
     "output_type": "stream",
     "text": [
      "Enter a number : 7488\n"
     ]
    },
    {
     "name": "stdout",
     "output_type": "stream",
     "text": [
      "The latgest digit in 7488 is 8\n"
     ]
    }
   ],
   "source": [
    "number = int(input(\"Enter a number :\"))\n",
    "num = number\n",
    "largest_digit = 0\n",
    "\n",
    "while num > 0:\n",
    "    digit = num % 10\n",
    "    if digit > largest_digit:\n",
    "        largest_digit = digit\n",
    "    num = num // 10\n",
    "\n",
    "print(f\"The latgest digit in {number} is {largest_digit}\")"
   ]
  },
  {
   "cell_type": "markdown",
   "id": "56f3c0c9-1d1f-437e-87ab-29080dec5d0d",
   "metadata": {},
   "source": [
    "**Question 7: Check if Number is Palindrome**\n",
    "\n",
    "A number is a palindrome if it reads the same forward and backward.\n",
    "\n",
    "Example: 121, 444, 9889 → Palindrome\n",
    "\n",
    "Ask user to input a number and check if it's a palindrome.\n"
   ]
  },
  {
   "cell_type": "code",
   "execution_count": 68,
   "id": "5acd868c-9250-4e4c-ae2a-7f1e694eed86",
   "metadata": {},
   "outputs": [
    {
     "name": "stdin",
     "output_type": "stream",
     "text": [
      "Enter a number : 1177711\n"
     ]
    },
    {
     "name": "stdout",
     "output_type": "stream",
     "text": [
      "1177711 is Palindrome\n"
     ]
    }
   ],
   "source": [
    "number = int(input(\"Enter a number :\"))\n",
    "num = number\n",
    "reversed_num = 0\n",
    "\n",
    "# reverse the number\n",
    "while num > 0:\n",
    "    digit = num % 10\n",
    "    reversed_num = (reversed_num * 10) + digit\n",
    "    num = num // 10\n",
    "\n",
    "if reversed_num == number:\n",
    "    print(f\"{number} is Palindrome\")\n",
    "else:\n",
    "    print(f\"{number} is Not Palindrome\")"
   ]
  },
  {
   "cell_type": "markdown",
   "id": "184a440e-96ed-4ea3-92d5-2821e5437138",
   "metadata": {},
   "source": [
    "**Question 8: Count Even and Odd Digits**\n",
    "\n",
    "Ask the user for a number and count how many even and odd digits it has."
   ]
  },
  {
   "cell_type": "code",
   "execution_count": 72,
   "id": "7629e3a7-1f32-467a-bba2-74309d0f0996",
   "metadata": {},
   "outputs": [
    {
     "name": "stdin",
     "output_type": "stream",
     "text": [
      "Enter a number : 1981518\n"
     ]
    },
    {
     "name": "stdout",
     "output_type": "stream",
     "text": [
      "In the number 1981518 - Odd counts : 5 & Even counts : 2\n"
     ]
    }
   ],
   "source": [
    "number = int(input(\"Enter a number :\"))\n",
    "num = number\n",
    "\n",
    "odd_count = 0\n",
    "even_count = 0\n",
    "\n",
    "while num > 0:\n",
    "    digit = num % 10\n",
    "    if digit % 2 == 0:\n",
    "        even_count += 1\n",
    "    else:\n",
    "        odd_count += 1\n",
    "    num = num // 10\n",
    "\n",
    "print(f\"In the number {number} - Odd counts : {odd_count} & Even counts : {even_count}\")"
   ]
  },
  {
   "cell_type": "markdown",
   "id": "e3b9fe26-94ef-412c-9d26-8f4e3731a0df",
   "metadata": {},
   "source": [
    "# Break and Continue"
   ]
  },
  {
   "cell_type": "markdown",
   "id": "05eb9d4f-d706-4834-adeb-b36ea97512e4",
   "metadata": {},
   "source": [
    "**Loops (for, while)** run code repeatedly, but sometimes you want to:\n",
    "\n",
    "1. Exit early → use break\n",
    "\n",
    "2. Skip certain steps → use continue\n",
    "\n",
    "**These are known as loop control statements.**\n"
   ]
  },
  {
   "cell_type": "markdown",
   "id": "095284e0-4cf4-40e3-a13c-c6d9ffaf0cdd",
   "metadata": {},
   "source": [
    "**1. break Statement — Exit the Loop**\n",
    "\n",
    "**What It Does:**\n",
    "\n",
    "break stops the loop immediately, no matter what the loop condition is.\n",
    "\n",
    "**The control jumps outside the loop.**"
   ]
  },
  {
   "cell_type": "code",
   "execution_count": null,
   "id": "322b069f-86ad-43f9-87a8-26aa5988d968",
   "metadata": {},
   "outputs": [],
   "source": [
    "[Loop Start]\n",
    "     ↓\n",
    "[Check Condition]\n",
    "     ↓\n",
    "[Is 'break' triggered?] -- Yes --> [Exit loop immediately]\n",
    "     ↓ No\n",
    "[Do rest of loop]\n",
    "     ↓\n",
    "[Next iteration]\n"
   ]
  },
  {
   "cell_type": "markdown",
   "id": "966945a9-09c4-40c0-b9ef-332397b37682",
   "metadata": {},
   "source": [
    "**Example: Stop when 5 is found**"
   ]
  },
  {
   "cell_type": "code",
   "execution_count": 18,
   "id": "193fdc16-64ed-4f5a-a828-047334c0a808",
   "metadata": {},
   "outputs": [
    {
     "name": "stdout",
     "output_type": "stream",
     "text": [
      "Current number: 1\n",
      "Current number: 2\n",
      "Current number: 3\n",
      "Current number: 4\n",
      "Found 5! Breaking the loop.\n"
     ]
    }
   ],
   "source": [
    "for i in range(1, 10):\n",
    "    if i == 5:\n",
    "        print(\"Found 5! Breaking the loop.\")\n",
    "        break\n",
    "    print(\"Current number:\", i)\n"
   ]
  },
  {
   "cell_type": "markdown",
   "id": "14bee68a-52e1-415f-ba48-4833fade4829",
   "metadata": {},
   "source": [
    "**Use Case:**\n",
    "\n",
    "1. Stop searching in a list as soon as you find what you're looking for.\n",
    "\n",
    "2. Exit early if an error or threshold is hit.\n"
   ]
  },
  {
   "cell_type": "markdown",
   "id": "25b5b67c-1d3d-458c-bfdc-951c9ef0f7d3",
   "metadata": {},
   "source": [
    "**2. continue Statement — Skip & Move On**\n",
    "\n",
    "**What It Does:**\n",
    "    \n",
    "continue skips the rest of the code inside the loop for the current iteration.\n",
    "\n",
    "Then it moves directly to the next iteration."
   ]
  },
  {
   "cell_type": "code",
   "execution_count": null,
   "id": "0690449b-0126-4701-958b-85830b072c51",
   "metadata": {},
   "outputs": [],
   "source": [
    "[Loop Start]\n",
    "     ↓\n",
    "[Check Condition]\n",
    "     ↓\n",
    "[Is 'continue' triggered?] -- Yes --> [Skip rest → Next iteration]\n",
    "     ↓ No\n",
    "[Do rest of loop]\n",
    "     ↓\n",
    "[Next iteration]\n"
   ]
  },
  {
   "cell_type": "markdown",
   "id": "63d4ca35-8afd-4947-8021-a2952b1ab851",
   "metadata": {},
   "source": [
    "**Example: Skip even numbers**"
   ]
  },
  {
   "cell_type": "code",
   "execution_count": 25,
   "id": "1c938940-b6dd-4116-8da2-102bdb9219b5",
   "metadata": {},
   "outputs": [
    {
     "name": "stdout",
     "output_type": "stream",
     "text": [
      "Odd number: 1\n",
      "Odd number: 3\n",
      "Odd number: 5\n"
     ]
    }
   ],
   "source": [
    "for i in range(1, 6):\n",
    "    if i % 2 == 0:\n",
    "        continue  # Skip even numbers\n",
    "    print(\"Odd number:\", i)"
   ]
  },
  {
   "cell_type": "code",
   "execution_count": null,
   "id": "b9027513-216d-46c5-bdc7-998ba7b78310",
   "metadata": {},
   "outputs": [],
   "source": []
  },
  {
   "cell_type": "markdown",
   "id": "ad72b402-23cc-4a0b-82fb-31ea41e0fc7f",
   "metadata": {},
   "source": [
    "**Question 1** Ask the user to enter 10 numbers one by one.\n",
    "\n",
    "As soon as the user enters a negative number, **stop the loop and print \"Stopped at negative input.\"**"
   ]
  },
  {
   "cell_type": "code",
   "execution_count": 78,
   "id": "e97b18e1-de57-44d4-829b-50d8dbfe3617",
   "metadata": {},
   "outputs": [
    {
     "name": "stdin",
     "output_type": "stream",
     "text": [
      "1 Enter the number : 5\n",
      "2 Enter the number : 5\n",
      "3 Enter the number : 5\n",
      "4 Enter the number : 5\n",
      "5 Enter the number : -2\n"
     ]
    },
    {
     "name": "stdout",
     "output_type": "stream",
     "text": [
      "Stopped at negative input.\n"
     ]
    }
   ],
   "source": [
    "for i in range(1,11):\n",
    "    num = int(input(f\"{i} Enter the number :\"))\n",
    "    if num < 0:\n",
    "        print(\"Stopped at negative input.\")\n",
    "        break"
   ]
  },
  {
   "cell_type": "code",
   "execution_count": null,
   "id": "194c2e47-980c-48b6-8583-175060de99b3",
   "metadata": {},
   "outputs": [],
   "source": []
  },
  {
   "cell_type": "code",
   "execution_count": null,
   "id": "45191fb7-1f50-4106-85e4-5a07ad735c3d",
   "metadata": {},
   "outputs": [],
   "source": []
  },
  {
   "cell_type": "markdown",
   "id": "16102752-f813-4f0e-8044-d763ad9108d0",
   "metadata": {},
   "source": [
    "**Question 2:** Ask the user to enter a word.\n",
    "\n",
    "Print each character except vowels "
   ]
  },
  {
   "cell_type": "code",
   "execution_count": 90,
   "id": "cd622afa-9049-4551-9e31-64f2fb1bad79",
   "metadata": {},
   "outputs": [
    {
     "name": "stdin",
     "output_type": "stream",
     "text": [
      "Enter the word : Elephant\n"
     ]
    },
    {
     "name": "stdout",
     "output_type": "stream",
     "text": [
      "lphnt\n"
     ]
    }
   ],
   "source": [
    "vowels = ['a','e','i','o','u']\n",
    "new_word = ''\n",
    "word = input(\"Enter the word :\")\n",
    "\n",
    "for i in word.lower():\n",
    "    if i in vowels:\n",
    "        continue\n",
    "    new_word = new_word + i\n",
    "\n",
    "print(new_word)"
   ]
  },
  {
   "cell_type": "markdown",
   "id": "934dcad8-8e49-4357-8bf4-3f0e7fe066ad",
   "metadata": {},
   "source": [
    "**Question 3:** Skip Even, Stop on 13\n",
    "\n",
    "1. Print numbers from 1 to 50.\n",
    "\n",
    "2. Skip even numbers \n",
    "\n",
    "3. Stop completely if number 13 is reached "
   ]
  },
  {
   "cell_type": "code",
   "execution_count": 92,
   "id": "2d417607-db67-432c-bb58-89599c6ada2a",
   "metadata": {},
   "outputs": [
    {
     "name": "stdout",
     "output_type": "stream",
     "text": [
      "1\n",
      "3\n",
      "5\n",
      "7\n",
      "9\n",
      "11\n"
     ]
    }
   ],
   "source": [
    "for i in range(50):\n",
    "    if i % 2 == 0:\n",
    "        continue\n",
    "    if i == 13:\n",
    "        break\n",
    "    print(i)"
   ]
  },
  {
   "cell_type": "code",
   "execution_count": null,
   "id": "3a2fc681-64c0-40c8-a0c9-aaabc0037983",
   "metadata": {},
   "outputs": [],
   "source": []
  }
 ],
 "metadata": {
  "kernelspec": {
   "display_name": "Python 3 (ipykernel)",
   "language": "python",
   "name": "python3"
  },
  "language_info": {
   "codemirror_mode": {
    "name": "ipython",
    "version": 3
   },
   "file_extension": ".py",
   "mimetype": "text/x-python",
   "name": "python",
   "nbconvert_exporter": "python",
   "pygments_lexer": "ipython3",
   "version": "3.12.4"
  }
 },
 "nbformat": 4,
 "nbformat_minor": 5
}
